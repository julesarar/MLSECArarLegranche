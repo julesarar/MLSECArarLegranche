{
  "nbformat": 4,
  "nbformat_minor": 0,
  "metadata": {
    "colab": {
      "provenance": [],
      "authorship_tag": "ABX9TyMraJL3Bx4mrO30cppPjVlq",
      "include_colab_link": true
    },
    "kernelspec": {
      "name": "python3",
      "display_name": "Python 3"
    },
    "language_info": {
      "name": "python"
    },
    "gpuClass": "standard",
    "accelerator": "GPU"
  },
  "cells": [
    {
      "cell_type": "markdown",
      "metadata": {
        "id": "view-in-github",
        "colab_type": "text"
      },
      "source": [
        "<a href=\"https://colab.research.google.com/github/julesarar/MLSECArarLegranche/blob/main/MLSEC_Final.ipynb\" target=\"_parent\"><img src=\"https://colab.research.google.com/assets/colab-badge.svg\" alt=\"Open In Colab\"/></a>"
      ]
    },
    {
      "cell_type": "code",
      "execution_count": null,
      "metadata": {
        "id": "7wU0u1YH0kRF"
      },
      "outputs": [],
      "source": [
        "import warnings\n",
        "warnings.filterwarnings('ignore')\n",
        "!pip install Jinja2==3.1.2\n",
        "!pip install -q git+https://github.com/RobustBench/robustbench.git@2d630bc9e8d1cf50d46a4dda65fd36850e3ef769\n",
        "!pip install torch torchvision\n",
        "!pip install numpy scipy\n",
        "import torch\n",
        "from torch.distributions.normal import Normal\n",
        "\n",
        "!pip install -q git+https://github.com/fra31/auto-attack\n",
        "from autoattack import AutoAttack\n",
        "\n",
        "!pip install -q foolbox  # produces 2 incompatibility messages, but they can be just ignored\n",
        "import foolbox as fb"
      ]
    },
    {
      "cell_type": "code",
      "source": [
        "# Define the normal distribution with a mean of 0 and standard deviation of 1\n",
        "dist = Normal(torch.tensor([0.0]), torch.tensor([1.0]))\n",
        "\n",
        "def add_noise(x, eps):\n",
        "    # Define the normal distribution with a mean of 0 and standard deviation of 1\n",
        "    dist = torch.distributions.normal.Normal(0, 1)\n",
        "    # Generate random noise from the normal distribution\n",
        "    noise = dist.rsample(x.shape).to(x.device)\n",
        "    # Add noise to the image\n",
        "    x_noisy = x + eps * noise\n",
        "    # Ensure that the image values are within the range [0, 1]\n",
        "    x_noisy = torch.clamp(x_noisy, 0, 1)\n",
        "    return x_noisy\n",
        "\n",
        "def add_noise_Linf(x, eps):\n",
        "    # Define the uniform distribution over [-1, 1]\n",
        "    dist = torch.distributions.uniform.Uniform(-1, 1)\n",
        "    # Generate random noise from the uniform distribution\n",
        "    noise = dist.sample(x.shape).to(x.device)\n",
        "    # Scale the noise by the epsilon parameter\n",
        "    noise = eps * noise\n",
        "    # Clip the noisy image to be within [0, 1]\n",
        "    x_noisy = torch.clamp(x + noise, 0, 1)\n",
        "    return x_noisy\n"
      ],
      "metadata": {
        "id": "kqIY-HU6Wrp0"
      },
      "execution_count": null,
      "outputs": []
    },
    {
      "cell_type": "code",
      "source": [
        "##LOAD THE IMAGES\n",
        "from robustbench.data import load_cifar10\n",
        "x_test, y_test = load_cifar10(n_examples=50)\n",
        "eps = 0.00\n",
        "x_noisy = add_noise(x_test, eps)\n",
        "x_noisyLinf = add_noise_Linf(x_test, eps)  # Adding random noise\n"
      ],
      "metadata": {
        "id": "f28XZX5F0v8Y"
      },
      "execution_count": null,
      "outputs": []
    },
    {
      "cell_type": "code",
      "source": [
        "from robustbench.utils import load_model\n",
        "\n",
        "#LOAD ROBUSTBENCH MODELS (you cannot load each one of them at the same time considering their size)\n",
        "\n",
        "#L2 MODELS\n",
        "'''model1 = load_model(model_name='Rebuffi2021Fixing_70_16_cutmix_extra', threat_model='L2')'''\n",
        "'''model2 = load_model(model_name='Rebuffi2021Fixing_R18_cutmix_ddpm', threat_model='L2')'''\n",
        "'''model3 = load_model(model_name='Ding2020MMA', threat_model='L2')'''\n",
        "\n",
        "#LINF MODEL\n",
        "modelLinf = load_model(model_name='Gowal2021Improving_70_16_ddpm_100m', threat_model='Linf')"
      ],
      "metadata": {
        "id": "_Jm8X7Sx0zYN"
      },
      "execution_count": null,
      "outputs": []
    },
    {
      "cell_type": "code",
      "source": [
        "'''model_fb1 = fb.PyTorchModel(model1, bounds=(0, 1))\n",
        "model_fb2 = fb.PyTorchModel(model2, bounds=(0, 1))\n",
        "model_fb3 = fb.PyTorchModel(model3, bounds=(0, 1))'''\n",
        "# Create Pytorch models\n",
        "#UNQUOTE WHICH PyTorch MODEL YOU WANT TO CREATE \n",
        "'''model_fb1_noisy = fb.PyTorchModel(model1, bounds=(0, 1))'''\n",
        "model_fb1Linf_noisy = fb.PyTorchModel(modelLinf, bounds=(0, 1))\n",
        "'''model_fb2_noisy = fb.PyTorchModel(model2, bounds=(0, 1))\n",
        "model_fb3_noisy = fb.PyTorchModel(model3, bounds=(0, 1))'''\n",
        "\n",
        "#UNQUOTE TO EVALUATE THE FIRST L2 MODEL\n",
        "'''_, advs1noisy, success1noisy = fb.attacks.L2PGD(rel_stepsize=0.1, steps=20)(model_fb1_noisy, x_noisy.to('cuda:0'), y_test.to('cuda:0'), epsilons=[0.5])\n",
        "#Print the robust accuracy of the model on the adversarial examples\n",
        "print('Robust accuracy: {:.1%}'.format(1 - success1noisy.float().mean()))\n",
        "print(\"\\n\")'''\n",
        "\n",
        "#UNQUOTE TO EVALUATE THE SECOND L2 MODEL\n",
        "'''_, advs2noisy, success2noisy = fb.attacks.L2PGD(rel_stepsize=0.1, steps=20)(model_fb2_noisy, x_noisy.to('cuda:0'), y_noisy.to('cuda:0'), epsilons=[0.5])\n",
        "print('Robust accuracy: {:.1%}'.format(1 - success2noisy.float().mean()))'''\n",
        "\n",
        "#UNQUOTE TO EVALUATE THE THIRD L2 MODEL\n",
        "'''_, advs3noisy, success3noisy = fb.attacks.L2PGD(rel_stepsize=0.1, steps=20)(model_fb3_noisy, x_noisy.to('cuda:0'), y_noisy.to('cuda:0'), epsilons=[0.5])\n",
        "print('Robust accuracy: {:.1%}'.format(1 - success3noisy.float().mean()))'''\n",
        "\n",
        "# UNQUOTE TO EVALUATE THE LINF MODEL\n",
        "'''_, advs1noisy, success1noisy = fb.attacks.L2PGD(rel_stepsize=0.1, steps=20)(model_fb1Linf_noisy, x_noisyLinf.to('cuda:0'), y_test.to('cuda:0'), epsilons=[0.5])\n",
        "#Print the robust accuracy of the model on the adversarial examples\n",
        "print('Robust accuracy: {:.1%}'.format(1 - success1noisy.float().mean()))'''"
      ],
      "metadata": {
        "id": "FsKydinX01di"
      },
      "execution_count": null,
      "outputs": []
    },
    {
      "cell_type": "code",
      "source": [
        "'''adversary = AutoAttack(model1, norm='L2', eps=0.5, version='custom', attacks_to_run=['apgd-ce', 'apgd-dlr'])\n",
        "adversary.apgd.n_restarts = 1'''\n",
        "\n",
        "#Generate adversarial examples using the AutoAttack object and evaluate them on the noisy inputs and true labels\n",
        "'''x_adv = adversary.run_standard_evaluation(x_noisy, y_test)'''\n",
        "\n",
        "\n",
        "adversary2 = AutoAttack(modelLinf, norm='Linf', eps=0.05, version='custom', attacks_to_run=['apgd-ce', 'apgd-dlr'])\n",
        "adversary2.apgd.n_restarts = 1\n",
        "\n",
        "#Generate adversarial examples using the AutoAttack object and evaluate them on the noisy inputs and true labels\n",
        "x_adv2 = adversary2.run_standard_evaluation(x_noisyLinf, y_test)\n",
        "\n",
        "'''adversary = AutoAttack(model2, norm='L2', eps=0.5, version='custom', attacks_to_run=['apgd-ce', 'apgd-dlr'])\n",
        "adversary.apgd.n_restarts = 1\n",
        "x_adv2 = adversary.run_standard_evaluation(x_noisy, y_test)\n",
        "\n",
        "adversary = AutoAttack(model3, norm='L2', eps=0.5, version='custom', attacks_to_run=['apgd-ce', 'apgd-dlr'])\n",
        "adversary.apgd.n_restarts = 1\n",
        "x_adv2 = adversary.run_standard_evaluation(x_noisy, y_test)'''\n"
      ],
      "metadata": {
        "id": "AAwyCWfxBQ-Z"
      },
      "execution_count": null,
      "outputs": []
    }
  ]
}