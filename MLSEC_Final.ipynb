{
  "nbformat": 4,
  "nbformat_minor": 0,
  "metadata": {
    "colab": {
      "provenance": []
    },
    "kernelspec": {
      "name": "python3",
      "display_name": "Python 3"
    },
    "language_info": {
      "name": "python"
    },
    "gpuClass": "standard",
    "accelerator": "GPU"
  },
  "cells": [
    {
      "cell_type": "code",
      "execution_count": null,
      "metadata": {
        "colab": {
          "base_uri": "https://localhost:8080/"
        },
        "id": "7wU0u1YH0kRF",
        "outputId": "16a189e3-4cfc-41ea-9c46-832596ccce48"
      },
      "outputs": [
        {
          "output_type": "stream",
          "name": "stdout",
          "text": [
            "Looking in indexes: https://pypi.org/simple, https://us-python.pkg.dev/colab-wheels/public/simple/\n",
            "Requirement already satisfied: Jinja2==3.1.2 in /usr/local/lib/python3.10/dist-packages (3.1.2)\n",
            "Requirement already satisfied: MarkupSafe>=2.0 in /usr/local/lib/python3.10/dist-packages (from Jinja2==3.1.2) (2.1.2)\n",
            "  Preparing metadata (setup.py) ... \u001b[?25l\u001b[?25hdone\n",
            "Looking in indexes: https://pypi.org/simple, https://us-python.pkg.dev/colab-wheels/public/simple/\n",
            "Requirement already satisfied: torch in /usr/local/lib/python3.10/dist-packages (2.0.1+cu118)\n",
            "Requirement already satisfied: torchvision in /usr/local/lib/python3.10/dist-packages (0.15.2+cu118)\n",
            "Requirement already satisfied: filelock in /usr/local/lib/python3.10/dist-packages (from torch) (3.12.0)\n",
            "Requirement already satisfied: typing-extensions in /usr/local/lib/python3.10/dist-packages (from torch) (4.5.0)\n",
            "Requirement already satisfied: sympy in /usr/local/lib/python3.10/dist-packages (from torch) (1.11.1)\n",
            "Requirement already satisfied: networkx in /usr/local/lib/python3.10/dist-packages (from torch) (3.1)\n",
            "Requirement already satisfied: jinja2 in /usr/local/lib/python3.10/dist-packages (from torch) (3.1.2)\n",
            "Requirement already satisfied: triton==2.0.0 in /usr/local/lib/python3.10/dist-packages (from torch) (2.0.0)\n",
            "Requirement already satisfied: cmake in /usr/local/lib/python3.10/dist-packages (from triton==2.0.0->torch) (3.25.2)\n",
            "Requirement already satisfied: lit in /usr/local/lib/python3.10/dist-packages (from triton==2.0.0->torch) (16.0.5)\n",
            "Requirement already satisfied: numpy in /usr/local/lib/python3.10/dist-packages (from torchvision) (1.22.4)\n",
            "Requirement already satisfied: requests in /usr/local/lib/python3.10/dist-packages (from torchvision) (2.25.1)\n",
            "Requirement already satisfied: pillow!=8.3.*,>=5.3.0 in /usr/local/lib/python3.10/dist-packages (from torchvision) (8.4.0)\n",
            "Requirement already satisfied: MarkupSafe>=2.0 in /usr/local/lib/python3.10/dist-packages (from jinja2->torch) (2.1.2)\n",
            "Requirement already satisfied: chardet<5,>=3.0.2 in /usr/local/lib/python3.10/dist-packages (from requests->torchvision) (4.0.0)\n",
            "Requirement already satisfied: idna<3,>=2.5 in /usr/local/lib/python3.10/dist-packages (from requests->torchvision) (2.10)\n",
            "Requirement already satisfied: urllib3<1.27,>=1.21.1 in /usr/local/lib/python3.10/dist-packages (from requests->torchvision) (1.26.15)\n",
            "Requirement already satisfied: certifi>=2017.4.17 in /usr/local/lib/python3.10/dist-packages (from requests->torchvision) (2022.12.7)\n",
            "Requirement already satisfied: mpmath>=0.19 in /usr/local/lib/python3.10/dist-packages (from sympy->torch) (1.3.0)\n",
            "Looking in indexes: https://pypi.org/simple, https://us-python.pkg.dev/colab-wheels/public/simple/\n",
            "Requirement already satisfied: numpy in /usr/local/lib/python3.10/dist-packages (1.22.4)\n",
            "Requirement already satisfied: scipy in /usr/local/lib/python3.10/dist-packages (1.10.1)\n",
            "  Preparing metadata (setup.py) ... \u001b[?25l\u001b[?25hdone\n"
          ]
        }
      ],
      "source": [
        "import warnings\n",
        "warnings.filterwarnings('ignore')\n",
        "!pip install Jinja2==3.1.2\n",
        "!pip install -q git+https://github.com/RobustBench/robustbench.git@2d630bc9e8d1cf50d46a4dda65fd36850e3ef769\n",
        "!pip install torch torchvision\n",
        "!pip install numpy scipy\n",
        "import torch\n",
        "from torch.distributions.normal import Normal\n",
        "\n",
        "!pip install -q git+https://github.com/fra31/auto-attack\n",
        "from autoattack import AutoAttack\n",
        "\n",
        "!pip install -q foolbox  # produces 2 incompatibility messages, but they can be just ignored\n",
        "import foolbox as fb"
      ]
    },
    {
      "cell_type": "code",
      "source": [
        "# Define the normal distribution with a mean of 0 and standard deviation of 1\n",
        "dist = Normal(torch.tensor([0.0]), torch.tensor([1.0]))\n",
        "\n",
        "def add_noise(x, eps):\n",
        "    # Define the normal distribution with a mean of 0 and standard deviation of 1\n",
        "    dist = torch.distributions.normal.Normal(0, 1)\n",
        "    # Generate random noise from the normal distribution\n",
        "    noise = dist.rsample(x.shape).to(x.device)\n",
        "    # Add noise to the image\n",
        "    x_noisy = x + eps * noise\n",
        "    # Ensure that the image values are within the range [0, 1]\n",
        "    x_noisy = torch.clamp(x_noisy, 0, 1)\n",
        "    return x_noisy\n",
        "\n",
        "def add_noise_Linf(x, eps):\n",
        "    # Define the uniform distribution over [-1, 1]\n",
        "    dist = torch.distributions.uniform.Uniform(-1, 1)\n",
        "    # Generate random noise from the uniform distribution\n",
        "    noise = dist.sample(x.shape).to(x.device)\n",
        "    # Scale the noise by the epsilon parameter\n",
        "    noise = eps * noise\n",
        "    # Clip the noisy image to be within [0, 1]\n",
        "    x_noisy = torch.clamp(x + noise, 0, 1)\n",
        "    return x_noisy\n"
      ],
      "metadata": {
        "id": "kqIY-HU6Wrp0"
      },
      "execution_count": null,
      "outputs": []
    },
    {
      "cell_type": "code",
      "source": [
        "##LOAD THE IMAGES\n",
        "from robustbench.data import load_cifar10\n",
        "x_test, y_test = load_cifar10(n_examples=50)\n",
        "eps = 0.00\n",
        "x_noisy = add_noise(x_test, eps)\n",
        "x_noisyLinf = add_noise_Linf(x_test, eps)  # Adding random noise\n"
      ],
      "metadata": {
        "colab": {
          "base_uri": "https://localhost:8080/"
        },
        "id": "f28XZX5F0v8Y",
        "outputId": "ef99dec7-77d3-4b63-fa4e-0b6088a5b03c"
      },
      "execution_count": null,
      "outputs": [
        {
          "output_type": "stream",
          "name": "stdout",
          "text": [
            "Files already downloaded and verified\n"
          ]
        }
      ]
    },
    {
      "cell_type": "code",
      "source": [
        "from robustbench.utils import load_model\n",
        "\n",
        "#LOAD ROBUSTBENCH MODELS (you cannot load each one of them at the same time considering their size)\n",
        "\n",
        "#L2 MODELS\n",
        "'''model1 = load_model(model_name='Rebuffi2021Fixing_70_16_cutmix_extra', threat_model='L2')'''\n",
        "'''model2 = load_model(model_name='Rebuffi2021Fixing_R18_cutmix_ddpm', threat_model='L2')'''\n",
        "'''model3 = load_model(model_name='Ding2020MMA', threat_model='L2')'''\n",
        "\n",
        "#LINF MODEL\n",
        "modelLinf = load_model(model_name='Gowal2021Improving_70_16_ddpm_100m', threat_model='Linf')"
      ],
      "metadata": {
        "id": "_Jm8X7Sx0zYN",
        "colab": {
          "base_uri": "https://localhost:8080/",
          "height": 36
        },
        "outputId": "df60f948-9536-4d0d-e016-1d086eb20a4b"
      },
      "execution_count": null,
      "outputs": [
        {
          "output_type": "execute_result",
          "data": {
            "text/plain": [
              "\"model2 = load_model(model_name='Rebuffi2021Fixing_R18_cutmix_ddpm', threat_model='L2')\\nmodel3 = load_model(model_name='Ding2020MMA', threat_model='L2')\""
            ],
            "application/vnd.google.colaboratory.intrinsic+json": {
              "type": "string"
            }
          },
          "metadata": {},
          "execution_count": 4
        }
      ]
    },
    {
      "cell_type": "code",
      "source": [
        "'''model_fb1 = fb.PyTorchModel(model1, bounds=(0, 1))\n",
        "model_fb2 = fb.PyTorchModel(model2, bounds=(0, 1))\n",
        "model_fb3 = fb.PyTorchModel(model3, bounds=(0, 1))'''\n",
        "# Create Pytorch models\n",
        "#UNQUOTE WHICH PyTorch MODEL YOU WANT TO CREATE \n",
        "'''model_fb1_noisy = fb.PyTorchModel(model1, bounds=(0, 1))'''\n",
        "model_fb1Linf_noisy = fb.PyTorchModel(modelLinf, bounds=(0, 1))\n",
        "'''model_fb2_noisy = fb.PyTorchModel(model2, bounds=(0, 1))\n",
        "model_fb3_noisy = fb.PyTorchModel(model3, bounds=(0, 1))'''\n",
        "\n",
        "#UNQUOTE TO EVALUATE THE FIRST L2 MODEL\n",
        "'''_, advs1noisy, success1noisy = fb.attacks.L2PGD(rel_stepsize=0.1, steps=20)(model_fb1_noisy, x_noisy.to('cuda:0'), y_test.to('cuda:0'), epsilons=[0.5])\n",
        "#Print the robust accuracy of the model on the adversarial examples\n",
        "print('Robust accuracy: {:.1%}'.format(1 - success1noisy.float().mean()))\n",
        "print(\"\\n\")'''\n",
        "\n",
        "#UNQUOTE TO EVALUATE THE SECOND L2 MODEL\n",
        "'''_, advs2noisy, success2noisy = fb.attacks.L2PGD(rel_stepsize=0.1, steps=20)(model_fb2_noisy, x_noisy.to('cuda:0'), y_noisy.to('cuda:0'), epsilons=[0.5])\n",
        "print('Robust accuracy: {:.1%}'.format(1 - success2noisy.float().mean()))'''\n",
        "\n",
        "#UNQUOTE TO EVALUATE THE THIRD L2 MODEL\n",
        "'''_, advs3noisy, success3noisy = fb.attacks.L2PGD(rel_stepsize=0.1, steps=20)(model_fb3_noisy, x_noisy.to('cuda:0'), y_noisy.to('cuda:0'), epsilons=[0.5])\n",
        "print('Robust accuracy: {:.1%}'.format(1 - success3noisy.float().mean()))'''\n",
        "\n",
        "# UNQUOTE TO EVALUATE THE LINF MODEL\n",
        "'''_, advs1noisy, success1noisy = fb.attacks.L2PGD(rel_stepsize=0.1, steps=20)(model_fb1Linf_noisy, x_noisyLinf.to('cuda:0'), y_test.to('cuda:0'), epsilons=[0.5])\n",
        "#Print the robust accuracy of the model on the adversarial examples\n",
        "print('Robust accuracy: {:.1%}'.format(1 - success1noisy.float().mean()))'''"
      ],
      "metadata": {
        "colab": {
          "base_uri": "https://localhost:8080/",
          "height": 53
        },
        "id": "FsKydinX01di",
        "outputId": "26211ff2-05dd-4e77-b1c5-1d39ee42aeb9"
      },
      "execution_count": null,
      "outputs": [
        {
          "output_type": "execute_result",
          "data": {
            "text/plain": [
              "\"_, advs2noisy, success2noisy = fb.attacks.L2PGD(rel_stepsize=0.1, steps=20)(model_fb2_noisy, x_noisy.to('cuda:0'), y_noisy.to('cuda:0'), epsilons=[0.5])\\nprint('Robust accuracy: {:.1%}'.format(1 - success2noisy.float().mean()))\\n_, advs3noisy, success3noisy = fb.attacks.L2PGD(rel_stepsize=0.1, steps=20)(model_fb3_noisy, x_noisy.to('cuda:0'), y_noisy.to('cuda:0'), epsilons=[0.5])\\nprint('Robust accuracy: {:.1%}'.format(1 - success3noisy.float().mean()))\""
            ],
            "application/vnd.google.colaboratory.intrinsic+json": {
              "type": "string"
            }
          },
          "metadata": {},
          "execution_count": 5
        }
      ]
    },
    {
      "cell_type": "code",
      "source": [
        "'''adversary = AutoAttack(model1, norm='L2', eps=0.5, version='custom', attacks_to_run=['apgd-ce', 'apgd-dlr'])\n",
        "adversary.apgd.n_restarts = 1'''\n",
        "\n",
        "#Generate adversarial examples using the AutoAttack object and evaluate them on the noisy inputs and true labels\n",
        "'''x_adv = adversary.run_standard_evaluation(x_noisy, y_test)'''\n",
        "\n",
        "\n",
        "adversary2 = AutoAttack(modelLinf, norm='Linf', eps=0.05, version='custom', attacks_to_run=['apgd-ce', 'apgd-dlr'])\n",
        "adversary2.apgd.n_restarts = 1\n",
        "\n",
        "#Generate adversarial examples using the AutoAttack object and evaluate them on the noisy inputs and true labels\n",
        "x_adv2 = adversary2.run_standard_evaluation(x_noisyLinf, y_test)\n",
        "\n",
        "'''adversary = AutoAttack(model2, norm='L2', eps=0.5, version='custom', attacks_to_run=['apgd-ce', 'apgd-dlr'])\n",
        "adversary.apgd.n_restarts = 1\n",
        "x_adv2 = adversary.run_standard_evaluation(x_noisy, y_test)\n",
        "\n",
        "adversary = AutoAttack(model3, norm='L2', eps=0.5, version='custom', attacks_to_run=['apgd-ce', 'apgd-dlr'])\n",
        "adversary.apgd.n_restarts = 1\n",
        "x_adv2 = adversary.run_standard_evaluation(x_noisy, y_test)'''\n"
      ],
      "metadata": {
        "colab": {
          "base_uri": "https://localhost:8080/",
          "height": 574
        },
        "id": "AAwyCWfxBQ-Z",
        "outputId": "1b7d11fd-95e7-4b58-d1b9-6b2b12d9f78d"
      },
      "execution_count": null,
      "outputs": [
        {
          "output_type": "stream",
          "name": "stdout",
          "text": [
            "using custom version including apgd-ce, apgd-dlr.\n"
          ]
        },
        {
          "output_type": "stream",
          "name": "stderr",
          "text": [
            "\n",
            "PYDEV DEBUGGER WARNING:\n",
            "sys.settrace() should not be used when the debugger is being used.\n",
            "This may cause the debugger to stop working correctly.\n",
            "If this is needed, please check: \n",
            "http://pydev.blogspot.com/2007/06/why-cant-pydev-debugger-work-with.html\n",
            "to see how to restore the debug tracing back correctly.\n",
            "Call Location:\n",
            "  File \"/usr/local/lib/python3.10/dist-packages/autoattack/checks.py\", line 100, in check_dynamic\n",
            "    sys.settrace(tracefunc)\n",
            "\n",
            "\n",
            "PYDEV DEBUGGER WARNING:\n",
            "sys.settrace() should not be used when the debugger is being used.\n",
            "This may cause the debugger to stop working correctly.\n",
            "If this is needed, please check: \n",
            "http://pydev.blogspot.com/2007/06/why-cant-pydev-debugger-work-with.html\n",
            "to see how to restore the debug tracing back correctly.\n",
            "Call Location:\n",
            "  File \"/usr/local/lib/python3.10/dist-packages/autoattack/checks.py\", line 102, in check_dynamic\n",
            "    sys.settrace(None)\n",
            "\n"
          ]
        },
        {
          "output_type": "stream",
          "name": "stdout",
          "text": [
            "initial accuracy: 94.00%\n",
            "apgd-ce - 1/1 - 23 out of 47 successfully perturbed\n",
            "robust accuracy after APGD-CE: 48.00% (total time 105.7 s)\n",
            "apgd-dlr - 1/1 - 3 out of 24 successfully perturbed\n",
            "robust accuracy after APGD-DLR: 42.00% (total time 169.6 s)\n",
            "max Linf perturbation: 0.05000, nan in tensor: 0, max: 1.00000, min: 0.00000\n",
            "robust accuracy: 42.00%\n"
          ]
        },
        {
          "output_type": "execute_result",
          "data": {
            "text/plain": [
              "\"adversary = AutoAttack(model2, norm='L2', eps=0.5, version='custom', attacks_to_run=['apgd-ce', 'apgd-dlr'])\\nadversary.apgd.n_restarts = 1\\nx_adv2 = adversary.run_standard_evaluation(x_noisy, y_test)\\n\\nadversary = AutoAttack(model3, norm='L2', eps=0.5, version='custom', attacks_to_run=['apgd-ce', 'apgd-dlr'])\\nadversary.apgd.n_restarts = 1\\nx_adv2 = adversary.run_standard_evaluation(x_noisy, y_test)\""
            ],
            "application/vnd.google.colaboratory.intrinsic+json": {
              "type": "string"
            }
          },
          "metadata": {},
          "execution_count": 6
        }
      ]
    }
  ]
}